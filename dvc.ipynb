{
 "cells": [
  {
   "cell_type": "markdown",
   "id": "28d66423-7da1-47ff-9ca0-f280e81a9dfe",
   "metadata": {},
   "source": [
    "## GIT Init"
   ]
  },
  {
   "cell_type": "code",
   "execution_count": 6,
   "id": "a9ded6f1-93a1-46be-8ec6-3d03bb30976b",
   "metadata": {},
   "outputs": [
    {
     "name": "stdout",
     "output_type": "stream",
     "text": [
      "Initialized empty Git repository in /Users/suwan/Documents/4_Github/mnist-dvc/.git/\n"
     ]
    }
   ],
   "source": [
    "!git init"
   ]
  },
  {
   "cell_type": "markdown",
   "id": "2da75062-6861-46e9-8a86-9dc5490c3ed9",
   "metadata": {},
   "source": [
    "## DVC Init"
   ]
  },
  {
   "cell_type": "code",
   "execution_count": 7,
   "id": "1c9101ae-905a-4f95-bb6a-dd5c70343809",
   "metadata": {},
   "outputs": [
    {
     "name": "stdout",
     "output_type": "stream",
     "text": [
      "Initialized DVC repository.\n",
      "\n",
      "You can now commit the changes to git.\n",
      "\n",
      "\u001b[31m+---------------------------------------------------------------------+\n",
      "\u001b[0m\u001b[31m|\u001b[0m                                                                     \u001b[31m|\u001b[0m\n",
      "\u001b[31m|\u001b[0m        DVC has enabled anonymous aggregate usage analytics.         \u001b[31m|\u001b[0m\n",
      "\u001b[31m|\u001b[0m     Read the analytics documentation (and how to opt-out) here:     \u001b[31m|\u001b[0m\n",
      "\u001b[31m|\u001b[0m             <\u001b[36mhttps://dvc.org/doc/user-guide/analytics\u001b[39m>              \u001b[31m|\u001b[0m\n",
      "\u001b[31m|\u001b[0m                                                                     \u001b[31m|\u001b[0m\n",
      "\u001b[31m+---------------------------------------------------------------------+\n",
      "\u001b[0m\n",
      "\u001b[33mWhat's next?\u001b[39m\n",
      "\u001b[33m------------\u001b[39m\n",
      "- Check out the documentation: <\u001b[36mhttps://dvc.org/doc\u001b[39m>\n",
      "- Get help and share ideas: <\u001b[36mhttps://dvc.org/chat\u001b[39m>\n",
      "- Star us on GitHub: <\u001b[36mhttps://github.com/iterative/dvc\u001b[39m>\n",
      "\u001b[0m"
     ]
    }
   ],
   "source": [
    "!dvc init"
   ]
  },
  {
   "cell_type": "markdown",
   "id": "3bd3306a-9a01-42ba-9456-00dc1c97110b",
   "metadata": {},
   "source": [
    "## 관리할 로컬 저장소"
   ]
  },
  {
   "cell_type": "code",
   "execution_count": 8,
   "id": "b36588ea-8367-491a-83d4-850f15df3fdb",
   "metadata": {},
   "outputs": [
    {
     "name": "stdout",
     "output_type": "stream",
     "text": [
      "mkdir: data: File exists\n"
     ]
    }
   ],
   "source": [
    "!mkdir data"
   ]
  },
  {
   "cell_type": "markdown",
   "id": "80646e52-03b8-416f-b726-d042e39bc016",
   "metadata": {},
   "source": [
    "## 로컬 저장소와 원격 저장소 연결"
   ]
  },
  {
   "cell_type": "code",
   "execution_count": 9,
   "id": "5fd85b64-402a-4033-b483-51d1a804cb1a",
   "metadata": {},
   "outputs": [
    {
     "name": "stdout",
     "output_type": "stream",
     "text": [
      "Setting 'data' as a default remote.\n",
      "\u001b[0m"
     ]
    }
   ],
   "source": [
    "!dvc remote add -d data gs://suwan/mnist-data"
   ]
  },
  {
   "cell_type": "markdown",
   "id": "f4f475df-aeab-475b-ab24-6f3256f248bb",
   "metadata": {},
   "source": [
    "## 연결되었는지 확인"
   ]
  },
  {
   "cell_type": "code",
   "execution_count": 10,
   "id": "9daf94a9-4dca-4d9f-a1ea-8c66f19491ae",
   "metadata": {},
   "outputs": [
    {
     "name": "stdout",
     "output_type": "stream",
     "text": [
      "[core]\n",
      "    remote = data\n",
      "['remote \"data\"']\n",
      "    url = gs://suwan/mnist-data\n"
     ]
    }
   ],
   "source": [
    "!cat .dvc/config"
   ]
  },
  {
   "cell_type": "markdown",
   "id": "b7b33821-66a9-4d28-ab5c-964e68c20ce0",
   "metadata": {},
   "source": [
    "## 로컬 저장소에 데이터 추가"
   ]
  },
  {
   "cell_type": "code",
   "execution_count": 11,
   "id": "77da0ade-f21a-4fc6-8c72-a0d263073c17",
   "metadata": {},
   "outputs": [],
   "source": [
    "import tensorflow as tf\n",
    "import numpy as np\n",
    "import os\n",
    "\n",
    "mnist = tf.keras.datasets.mnist\n",
    "(X, Y), (test_x, test_y) = mnist.load_data()"
   ]
  },
  {
   "cell_type": "code",
   "execution_count": 12,
   "id": "31beefd4-229c-46d8-9eac-a9eecd61e49a",
   "metadata": {},
   "outputs": [],
   "source": [
    "train_x = X[:12000]\n",
    "train_y = Y[:12000]"
   ]
  },
  {
   "cell_type": "code",
   "execution_count": 13,
   "id": "bc5b0831-3a29-4087-85b8-a18e1fa07b36",
   "metadata": {},
   "outputs": [
    {
     "data": {
      "text/plain": [
       "((12000, 28, 28), (12000,))"
      ]
     },
     "execution_count": 13,
     "metadata": {},
     "output_type": "execute_result"
    }
   ],
   "source": [
    "train_x.shape, train_y.shape"
   ]
  },
  {
   "cell_type": "code",
   "execution_count": 28,
   "id": "0696cadc-3455-4df5-8b91-d5547df4bfd9",
   "metadata": {},
   "outputs": [],
   "source": [
    "def save_data(train_x, train_y, test_x, test_y):\n",
    "    data_dir = \"data\"\n",
    "    train_filename = \"train.npz\"\n",
    "    test_filename = \"test.npz\"\n",
    "\n",
    "    np.savez(\n",
    "        os.path.join(data_dir, train_filename),\n",
    "        train_x=train_x,\n",
    "        train_y=train_y\n",
    "    )\n",
    "    np.savez(\n",
    "        os.path.join(data_dir, test_filename),\n",
    "        test_x=test_x,\n",
    "        test_y=test_y\n",
    "    )"
   ]
  },
  {
   "cell_type": "code",
   "execution_count": 15,
   "id": "60c30f13-0920-45d4-8c35-6d74d864dfe8",
   "metadata": {},
   "outputs": [
    {
     "name": "stdout",
     "output_type": "stream",
     "text": [
      "test.npz  train.npz\n"
     ]
    }
   ],
   "source": [
    "!ls $data_dir"
   ]
  },
  {
   "cell_type": "markdown",
   "id": "9ec12419-5263-4fab-9cb6-eed5fb6a02bf",
   "metadata": {},
   "source": [
    "## DVC로 로컬 저장소 관리"
   ]
  },
  {
   "cell_type": "markdown",
   "id": "9794c013-26c0-4ddc-bd9b-55ff986d2a2e",
   "metadata": {},
   "source": [
    "git add와 비슷한듯"
   ]
  },
  {
   "cell_type": "code",
   "execution_count": 16,
   "id": "e32d8bd2-1ad3-4113-a457-208f80360dcc",
   "metadata": {},
   "outputs": [
    {
     "name": "stdout",
     "output_type": "stream",
     "text": [
      "\u001b[?25l                                                                          \u001b[32m⠋\u001b[0m Checking graph\n",
      "Adding...                                                                       \n",
      "!\u001b[A\n",
      "Computing file/dir hashes (only done once)            |0.00 [00:00,      ?md5/s]\u001b[A\n",
      "\n",
      "!\u001b[A\u001b[A\n",
      "\n",
      "  0%|          |                                   0.00/? [00:00<?,        ?B/s]\u001b[A\u001b[A\n",
      "\n",
      "                                                                                \u001b[A\u001b[A\n",
      "\n",
      "!\u001b[A\u001b[A\n",
      "\n",
      "  0%|          |                                   0.00/? [00:00<?,        ?B/s]\u001b[A\u001b[A\n",
      "\n",
      "                                                                                \u001b[A\u001b[A\n",
      "                                                                                \u001b[A\n",
      "!\u001b[A\n",
      "  0%|          |                                 0.00/137 [00:00<?,        ?B/s]\u001b[A\n",
      "  0%|          |                                 0.00/137 [00:00<?,        ?B/s]\u001b[A\n",
      "                                                                                \u001b[A\n",
      "!\u001b[A\n",
      "  0%|          |Querying cache in .dvc/cache    0.00/3.00 [00:00<?,     ?file/s]\u001b[A\n",
      "                                                                                \u001b[A\n",
      "!\u001b[A\n",
      "  0%|          |Transferring                          0/3 [00:00<?,     ?file/s]\u001b[A\n",
      "\n",
      "!\u001b[A\u001b[A\n",
      "\n",
      "  0%|          |21e666bed63daa3ead211ecce5e409.dir 0.00/? [00:00<?,        ?B/s]\u001b[A\u001b[A\n",
      "\n",
      "  0%|          |21e666bed63daa3ead211ecce5e409.di0.00/137 [00:00<?,        ?B/s]\u001b[A\u001b[A\n",
      "\n",
      "                                                                                \u001b[A\u001b[A\n",
      "100% Adding...|████████████████████████████████████████|1/1 [00:00, 20.96file/s]\u001b[A\n",
      "\n",
      "To track the changes with git, run:\n",
      "\n",
      "\tgit add .gitignore data.dvc\n",
      "\u001b[0m"
     ]
    }
   ],
   "source": [
    "!dvc add data"
   ]
  },
  {
   "cell_type": "markdown",
   "id": "f92e9d35-8ea1-4cb1-8ada-e81da7b7ad72",
   "metadata": {},
   "source": [
    "## 원격 저장소에 Push"
   ]
  },
  {
   "cell_type": "markdown",
   "id": "867640cb-a7f3-44a5-a551-89755b5d6485",
   "metadata": {},
   "source": [
    "git push와 비슷한 듯"
   ]
  },
  {
   "cell_type": "code",
   "execution_count": 17,
   "id": "51220095-840e-48e2-8fa8-63e8d8c8b1fb",
   "metadata": {},
   "outputs": [
    {
     "name": "stdout",
     "output_type": "stream",
     "text": [
      "  0% Transferring|                                   |0/3 [00:00<?,     ?file/s]\n",
      "!\u001b[A\n",
      "  0%|          |5ba70eb56da97ebef7d13f9907c21a     0.00/? [00:00<?,        ?B/s]\u001b[A\n",
      "  0%|          |5ba70eb56da97ebef7d13f9907c21a 0.00/8.98M [00:00<?,        ?B/s]\u001b[A\n",
      "\n",
      "!\u001b[A\u001b[A\n",
      "\n",
      "  0%|          |d65e8e3086c9dfebaf3c207c3d40a5     0.00/? [00:00<?,        ?B/s]\u001b[A\u001b[A\n",
      "\n",
      "  0%|          |d65e8e3086c9dfebaf3c207c3d40a5 0.00/7.49M [00:00<?,        ?B/s]\u001b[A\u001b[A\n",
      "100%|██████████|5ba70eb56da97ebef7d13f99078.98M/8.98M [00:02<00:00,    4.24MB/s]\u001b[A\n",
      "\n",
      "100%|██████████|d65e8e3086c9dfebaf3c207c3d7.49M/7.49M [00:02<00:00,    3.13MB/s]\u001b[A\u001b[A\n",
      " 33% Transferring|██████████▎                    |1/3 [00:04<00:08,  4.30s/file]\u001b[A\n",
      "\n",
      " 67% Transferring|████████████████████▋          |2/3 [00:04<00:01,  1.86s/file]\u001b[A\u001b[A\n",
      "!\u001b[A\n",
      "  0%|          |21e666bed63daa3ead211ecce5e409.dir 0.00/? [00:00<?,        ?B/s]\u001b[A\n",
      "  0%|          |21e666bed63daa3ead211ecce5e409.di0.00/137 [00:00<?,        ?B/s]\u001b[A\n",
      "3 files pushed                                                                  \u001b[A\n",
      "\u001b[0m"
     ]
    }
   ],
   "source": [
    "!dvc push"
   ]
  },
  {
   "cell_type": "markdown",
   "id": "d52ab1b4-4441-4e69-acde-8afc3706ef6e",
   "metadata": {},
   "source": [
    "## Git push with tag"
   ]
  },
  {
   "cell_type": "code",
   "execution_count": 18,
   "id": "ee051eeb-febb-4aac-90ac-8f4029878a31",
   "metadata": {},
   "outputs": [
    {
     "name": "stdout",
     "output_type": "stream",
     "text": [
      "On branch master\n",
      "\n",
      "No commits yet\n",
      "\n",
      "Changes to be committed:\n",
      "  (use \"git rm --cached <file>...\" to unstage)\n",
      "\t\u001b[32mnew file:   .dvc/.gitignore\u001b[m\n",
      "\t\u001b[32mnew file:   .dvc/config\u001b[m\n",
      "\t\u001b[32mnew file:   .dvc/plots/confusion.json\u001b[m\n",
      "\t\u001b[32mnew file:   .dvc/plots/confusion_normalized.json\u001b[m\n",
      "\t\u001b[32mnew file:   .dvc/plots/linear.json\u001b[m\n",
      "\t\u001b[32mnew file:   .dvc/plots/scatter.json\u001b[m\n",
      "\t\u001b[32mnew file:   .dvc/plots/simple.json\u001b[m\n",
      "\t\u001b[32mnew file:   .dvc/plots/smooth.json\u001b[m\n",
      "\t\u001b[32mnew file:   .dvcignore\u001b[m\n",
      "\n",
      "Changes not staged for commit:\n",
      "  (use \"git add <file>...\" to update what will be committed)\n",
      "  (use \"git restore <file>...\" to discard changes in working directory)\n",
      "\t\u001b[31mmodified:   .dvc/config\u001b[m\n",
      "\n",
      "Untracked files:\n",
      "  (use \"git add <file>...\" to include in what will be committed)\n",
      "\t\u001b[31m.gitignore\u001b[m\n",
      "\t\u001b[31m.ipynb_checkpoints/\u001b[m\n",
      "\t\u001b[31mdata.dvc\u001b[m\n",
      "\t\u001b[31mdvc.ipynb\u001b[m\n",
      "\n"
     ]
    }
   ],
   "source": [
    "!git status"
   ]
  },
  {
   "cell_type": "code",
   "execution_count": 19,
   "id": "23386fe3-edf8-40eb-9f4d-680495e8becd",
   "metadata": {},
   "outputs": [],
   "source": [
    "!git add ."
   ]
  },
  {
   "cell_type": "code",
   "execution_count": 20,
   "id": "dcfe67ce-335f-408f-b24f-4b173f4edb46",
   "metadata": {},
   "outputs": [
    {
     "name": "stdout",
     "output_type": "stream",
     "text": [
      "[master (root-commit) a683495] add mnist data with dvc\n",
      " 13 files changed, 1497 insertions(+)\n",
      " create mode 100644 .dvc/.gitignore\n",
      " create mode 100644 .dvc/config\n",
      " create mode 100644 .dvc/plots/confusion.json\n",
      " create mode 100644 .dvc/plots/confusion_normalized.json\n",
      " create mode 100644 .dvc/plots/linear.json\n",
      " create mode 100644 .dvc/plots/scatter.json\n",
      " create mode 100644 .dvc/plots/simple.json\n",
      " create mode 100644 .dvc/plots/smooth.json\n",
      " create mode 100644 .dvcignore\n",
      " create mode 100644 .gitignore\n",
      " create mode 100644 .ipynb_checkpoints/dvc-checkpoint.ipynb\n",
      " create mode 100644 data.dvc\n",
      " create mode 100644 dvc.ipynb\n"
     ]
    }
   ],
   "source": [
    "!git commit -m \"add mnist data with dvc\""
   ]
  },
  {
   "cell_type": "code",
   "execution_count": 23,
   "id": "f893ba94-d13d-47dc-a92e-95d8fb390a54",
   "metadata": {},
   "outputs": [],
   "source": [
    "!git branch -M main"
   ]
  },
  {
   "cell_type": "code",
   "execution_count": 24,
   "id": "e7c3b1f6-a36d-4aef-9433-54734d9f0862",
   "metadata": {},
   "outputs": [],
   "source": [
    "!git remote add origin https://github.com/Ssuwani/mnist-dvc.git"
   ]
  },
  {
   "cell_type": "code",
   "execution_count": 25,
   "id": "e903f83c-e4fd-4691-a1de-8079754d61f5",
   "metadata": {},
   "outputs": [
    {
     "name": "stdout",
     "output_type": "stream",
     "text": [
      "fatal: tag 'v0.1' already exists\n"
     ]
    }
   ],
   "source": [
    "!git tag -a \"v0.1\" -m \"mnist v0.1\""
   ]
  },
  {
   "cell_type": "code",
   "execution_count": 27,
   "id": "76eb2d73-ef40-4985-981c-fa8a9434c4e7",
   "metadata": {},
   "outputs": [
    {
     "name": "stdout",
     "output_type": "stream",
     "text": [
      "\u001b[KEnumerating objects: 18, done.\n",
      "\u001b[KCounting objects: 100% (18/18), done.\n",
      "Delta compression using up to 8 threads\n",
      "\u001b[KCompressing objects: 100% (15/15), done.\n",
      "\u001b[KWriting objects: 100% (18/18), 6.15 KiB | 3.08 MiB/s, done.\n",
      "Total 18 (delta 6), reused 0 (delta 0)\n",
      "remote: Resolving deltas: 100% (6/6), done.\u001b[K\n",
      "To https://github.com/Ssuwani/mnist-dvc.git\n",
      " * [new branch]      main -> main\n"
     ]
    }
   ],
   "source": [
    "!git push origin main"
   ]
  },
  {
   "cell_type": "markdown",
   "id": "52fd6089-66a3-458d-a538-d1ee6a05e2b2",
   "metadata": {},
   "source": [
    "## 두번째 데이터 추가"
   ]
  },
  {
   "cell_type": "code",
   "execution_count": 29,
   "id": "52710814-05fe-483a-ac81-99e7dde8a565",
   "metadata": {},
   "outputs": [],
   "source": [
    "train_x = X[:24000]\n",
    "train_y = Y[:24000]"
   ]
  },
  {
   "cell_type": "code",
   "execution_count": 30,
   "id": "5a65d2f8-1d58-4a27-89cb-4bb0ea496a6c",
   "metadata": {},
   "outputs": [],
   "source": [
    "save_data(train_x, train_y, test_x, test_y)"
   ]
  },
  {
   "cell_type": "code",
   "execution_count": 31,
   "id": "f08a8cb2-9ca5-4d87-b38a-8ec6873857a5",
   "metadata": {},
   "outputs": [
    {
     "name": "stdout",
     "output_type": "stream",
     "text": [
      "\u001b[?25l                                                                          \u001b[32m⠋\u001b[0m Checking graph\n",
      "Adding...                                                                       \n",
      "!\u001b[A\n",
      "Computing file/dir hashes (only done once)            |0.00 [00:00,      ?md5/s]\u001b[A\n",
      "\n",
      "!\u001b[A\u001b[A\n",
      "\n",
      "  0%|          |                                   0.00/? [00:00<?,        ?B/s]\u001b[A\u001b[A\n",
      "\n",
      "                                                                                \u001b[A\u001b[A\n",
      "\n",
      "!\u001b[A\u001b[A\n",
      "\n",
      "  0%|          |                                   0.00/? [00:00<?,        ?B/s]\u001b[A\u001b[A\n",
      "\n",
      "                                                                                \u001b[A\u001b[A\n",
      "                                                                                \u001b[A\n",
      "!\u001b[A\n",
      "  0%|          |                                 0.00/137 [00:00<?,        ?B/s]\u001b[A\n",
      "  0%|          |                                 0.00/137 [00:00<?,        ?B/s]\u001b[A\n",
      "                                                                                \u001b[A\n",
      "!\u001b[A\n",
      "  0%|          |Querying cache in .dvc/cache    0.00/3.00 [00:00<?,     ?file/s]\u001b[A\n",
      "                                                                                \u001b[A\n",
      "!\u001b[A\n",
      "  0%|          |Transferring                          0/2 [00:00<?,     ?file/s]\u001b[A\n",
      "\n",
      "!\u001b[A\u001b[A\n",
      "\n",
      "  0%|          |c22a3b5fa0dbc32244fa3734082c95.dir 0.00/? [00:00<?,        ?B/s]\u001b[A\u001b[A\n",
      "\n",
      "  0%|          |c22a3b5fa0dbc32244fa3734082c95.di0.00/137 [00:00<?,        ?B/s]\u001b[A\u001b[A\n",
      "\n",
      "                                                                                \u001b[A\u001b[A\n",
      "100% Adding...|████████████████████████████████████████|1/1 [00:00, 17.53file/s]\u001b[A\n",
      "\n",
      "To track the changes with git, run:\n",
      "\n",
      "\tgit add data.dvc\n",
      "\u001b[0m"
     ]
    }
   ],
   "source": [
    "!dvc add data"
   ]
  },
  {
   "cell_type": "code",
   "execution_count": 32,
   "id": "97a8dcd4-1820-44d1-8770-a7e95efaa3ff",
   "metadata": {},
   "outputs": [
    {
     "name": "stdout",
     "output_type": "stream",
     "text": [
      "  0% Transferring|                                   |0/2 [00:00<?,     ?file/s]\n",
      "!\u001b[A\n",
      "  0%|          |1b15b703c28d5cabff62d20de9c2a9     0.00/? [00:00<?,        ?B/s]\u001b[A\n",
      "  0%|          |1b15b703c28d5cabff62d20de9c2a9 0.00/18.0M [00:00<?,        ?B/s]\u001b[A\n",
      " 56%|█████▌    |1b15b703c28d5cabff62d20de910.0M/18.0M [00:01<00:01,    5.61MB/s]\u001b[A\n",
      " 83%|████████▎ |1b15b703c28d5cabff62d20de915.0M/18.0M [00:05<00:01,    2.72MB/s]\u001b[A\n",
      "100%|██████████|1b15b703c28d5cabff62d20de918.0M/18.0M [00:08<00:00,    1.92MB/s]\u001b[A\n",
      " 50% Transferring|███████████████▌               |1/2 [00:10<00:10, 10.92s/file]\u001b[A\n",
      "!\u001b[A\n",
      "  0%|          |c22a3b5fa0dbc32244fa3734082c95.dir 0.00/? [00:00<?,        ?B/s]\u001b[A\n",
      "  0%|          |c22a3b5fa0dbc32244fa3734082c95.di0.00/137 [00:00<?,        ?B/s]\u001b[A\n",
      "2 files pushed                                                                  \u001b[A\n",
      "\u001b[0m"
     ]
    }
   ],
   "source": [
    "!dvc push"
   ]
  },
  {
   "cell_type": "code",
   "execution_count": 33,
   "id": "b48a7f38-ebc6-4ea1-aae9-844e5fccc3aa",
   "metadata": {},
   "outputs": [
    {
     "name": "stdout",
     "output_type": "stream",
     "text": [
      "[main ceee5c6] add mnist 24000\n",
      " 2 files changed, 275 insertions(+), 99 deletions(-)\n"
     ]
    }
   ],
   "source": [
    "!git commit -am \"add mnist 24000\""
   ]
  },
  {
   "cell_type": "code",
   "execution_count": 34,
   "id": "e574ede7-dd82-42e5-b3ef-ee68691cb9e7",
   "metadata": {},
   "outputs": [],
   "source": [
    "!git tag -a \"v0.2\" -m \"mnist v0.2\""
   ]
  },
  {
   "cell_type": "code",
   "execution_count": 36,
   "id": "0037e653-589e-46b9-a454-e4fc8ab9c7e4",
   "metadata": {},
   "outputs": [
    {
     "name": "stdout",
     "output_type": "stream",
     "text": [
      "\u001b[KEnumerating objects: 7, done.\n",
      "\u001b[KCounting objects: 100% (7/7), done.\n",
      "Delta compression using up to 8 threads\n",
      "\u001b[KCompressing objects: 100% (4/4), done.\n",
      "\u001b[KWriting objects: 100% (4/4), 2.74 KiB | 2.74 MiB/s, done.\n",
      "Total 4 (delta 2), reused 0 (delta 0)\n",
      "remote: Resolving deltas: 100% (2/2), completed with 2 local objects.\u001b[K\n",
      "To https://github.com/Ssuwani/mnist-dvc.git\n",
      "   a683495..ceee5c6  main -> main\n"
     ]
    }
   ],
   "source": [
    "!git push origin main"
   ]
  },
  {
   "cell_type": "code",
   "execution_count": null,
   "id": "db2f6c51-122e-4864-b29e-23e6c9dbb337",
   "metadata": {},
   "outputs": [],
   "source": []
  }
 ],
 "metadata": {
  "kernelspec": {
   "display_name": "Python 3 (ipykernel)",
   "language": "python",
   "name": "python3"
  },
  "language_info": {
   "codemirror_mode": {
    "name": "ipython",
    "version": 3
   },
   "file_extension": ".py",
   "mimetype": "text/x-python",
   "name": "python",
   "nbconvert_exporter": "python",
   "pygments_lexer": "ipython3",
   "version": "3.9.0"
  }
 },
 "nbformat": 4,
 "nbformat_minor": 5
}
