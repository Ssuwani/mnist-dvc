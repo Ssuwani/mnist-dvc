{
 "cells": [
  {
   "cell_type": "markdown",
   "id": "2da75062-6861-46e9-8a86-9dc5490c3ed9",
   "metadata": {},
   "source": [
    "## DVC Init"
   ]
  },
  {
   "cell_type": "code",
   "execution_count": 5,
   "id": "34a5d326-9503-4498-b0c0-94c395de041b",
   "metadata": {},
   "outputs": [
    {
     "name": "stdout",
     "output_type": "stream",
     "text": [
      "\u001b[1m\u001b[36mdata\u001b[m\u001b[m      dvc.ipynb\n"
     ]
    }
   ],
   "source": [
    "!ls"
   ]
  },
  {
   "cell_type": "code",
   "execution_count": 3,
   "id": "1c9101ae-905a-4f95-bb6a-dd5c70343809",
   "metadata": {},
   "outputs": [
    {
     "name": "stdout",
     "output_type": "stream",
     "text": [
      "\u001b[31mERROR\u001b[39m: failed to initiate DVC - /Users/suwan/Documents/4_Github/mnist-dvc is not tracked by any supported SCM tool (e.g. Git). Use `--no-scm` if you don't want to use any SCM or `--subdir` if initializing inside a subdirectory of a parent SCM repository.\n",
      "\u001b[0m"
     ]
    }
   ],
   "source": [
    "!dvc init"
   ]
  },
  {
   "cell_type": "markdown",
   "id": "3bd3306a-9a01-42ba-9456-00dc1c97110b",
   "metadata": {},
   "source": [
    "## 관리할 로컬 저장소"
   ]
  },
  {
   "cell_type": "code",
   "execution_count": 1,
   "id": "b36588ea-8367-491a-83d4-850f15df3fdb",
   "metadata": {},
   "outputs": [],
   "source": [
    "!mkdir data"
   ]
  },
  {
   "cell_type": "markdown",
   "id": "80646e52-03b8-416f-b726-d042e39bc016",
   "metadata": {},
   "source": [
    "## 로컬 저장소와 원격 저장소 연결"
   ]
  },
  {
   "cell_type": "code",
   "execution_count": 2,
   "id": "5fd85b64-402a-4033-b483-51d1a804cb1a",
   "metadata": {},
   "outputs": [
    {
     "name": "stdout",
     "output_type": "stream",
     "text": [
      "Setting 'data' as a default remote.\n",
      "\u001b[31mERROR\u001b[39m: configuration error - config file error: Not inside a DVC repo\n",
      "\u001b[0m"
     ]
    }
   ],
   "source": [
    "!dvc remote add -d data gs://suwan/mnist-data"
   ]
  },
  {
   "cell_type": "markdown",
   "id": "f4f475df-aeab-475b-ab24-6f3256f248bb",
   "metadata": {},
   "source": [
    "## 연결되었는지 확인"
   ]
  },
  {
   "cell_type": "code",
   "execution_count": 5,
   "id": "9daf94a9-4dca-4d9f-a1ea-8c66f19491ae",
   "metadata": {},
   "outputs": [
    {
     "name": "stdout",
     "output_type": "stream",
     "text": [
      "[core]\n",
      "    remote = mnist-data\n",
      "['remote \"datas\"']\n",
      "    url = gs://suwan/datas\n",
      "['remote \"mnist-data\"']\n",
      "    url = gs://suwan/mnist-data\n"
     ]
    }
   ],
   "source": [
    "!cat .dvc/config"
   ]
  },
  {
   "cell_type": "markdown",
   "id": "b7b33821-66a9-4d28-ab5c-964e68c20ce0",
   "metadata": {},
   "source": [
    "## 로컬 저장소에 데이터 추가"
   ]
  },
  {
   "cell_type": "code",
   "execution_count": 11,
   "id": "77da0ade-f21a-4fc6-8c72-a0d263073c17",
   "metadata": {},
   "outputs": [],
   "source": [
    "import tensorflow as tf\n",
    "import numpy as np\n",
    "import os\n",
    "\n",
    "mnist = tf.keras.datasets.mnist\n",
    "(X, Y), (test_x, test_y) = mnist.load_data()"
   ]
  },
  {
   "cell_type": "code",
   "execution_count": 7,
   "id": "31beefd4-229c-46d8-9eac-a9eecd61e49a",
   "metadata": {},
   "outputs": [],
   "source": [
    "train_x = X[:12000]\n",
    "train_y = Y[:12000]"
   ]
  },
  {
   "cell_type": "code",
   "execution_count": 8,
   "id": "bc5b0831-3a29-4087-85b8-a18e1fa07b36",
   "metadata": {},
   "outputs": [
    {
     "data": {
      "text/plain": [
       "((12000, 28, 28), (12000,))"
      ]
     },
     "execution_count": 8,
     "metadata": {},
     "output_type": "execute_result"
    }
   ],
   "source": [
    "train_x.shape, train_y.shape"
   ]
  },
  {
   "cell_type": "code",
   "execution_count": 12,
   "id": "0696cadc-3455-4df5-8b91-d5547df4bfd9",
   "metadata": {},
   "outputs": [],
   "source": [
    "data_dir = \"mnist-data\"\n",
    "train_filename = \"train-data.npz\"\n",
    "test_filename = \"test-data.npz\"\n",
    "\n",
    "np.savez(\n",
    "    os.path.join(data_dir, train_filename),\n",
    "    train_x=train_x,\n",
    "    train_y=train_y\n",
    ")\n",
    "np.savez(\n",
    "    os.path.join(data_dir, test_filename),\n",
    "    test_x=test_x,\n",
    "    test_y=test_y\n",
    ")"
   ]
  },
  {
   "cell_type": "code",
   "execution_count": 13,
   "id": "60c30f13-0920-45d4-8c35-6d74d864dfe8",
   "metadata": {},
   "outputs": [
    {
     "name": "stdout",
     "output_type": "stream",
     "text": [
      "test-data.npz  train-data.npz\n"
     ]
    }
   ],
   "source": [
    "!ls $data_dir"
   ]
  },
  {
   "cell_type": "markdown",
   "id": "9ec12419-5263-4fab-9cb6-eed5fb6a02bf",
   "metadata": {},
   "source": [
    "## DVC로 로컬 저장소 관리"
   ]
  },
  {
   "cell_type": "markdown",
   "id": "9794c013-26c0-4ddc-bd9b-55ff986d2a2e",
   "metadata": {},
   "source": [
    "git add와 비슷한듯"
   ]
  },
  {
   "cell_type": "code",
   "execution_count": 14,
   "id": "e32d8bd2-1ad3-4113-a457-208f80360dcc",
   "metadata": {},
   "outputs": [
    {
     "name": "stdout",
     "output_type": "stream",
     "text": [
      "\u001b[2K\u001b[32m⠋\u001b[0m Checking graph                                                   \u001b[32m⠋\u001b[0m Checking graph\n",
      "Adding...                                                                       \n",
      "!\u001b[A\n",
      "Computing file/dir hashes (only done once)            |0.00 [00:00,      ?md5/s]\u001b[A\n",
      "\n",
      "!\u001b[A\u001b[A\n",
      "\n",
      "  0%|          |                                   0.00/? [00:00<?,        ?B/s]\u001b[A\u001b[A\n",
      "\n",
      "                                                                                \u001b[A\u001b[A\n",
      "\n",
      "!\u001b[A\u001b[A\n",
      "\n",
      "  0%|          |                                   0.00/? [00:00<?,        ?B/s]\u001b[A\u001b[A\n",
      "\n",
      "                                                                                \u001b[A\u001b[A\n",
      "                                                                                \u001b[A\n",
      "!\u001b[A\n",
      "  0%|          |                                 0.00/147 [00:00<?,        ?B/s]\u001b[A\n",
      "  0%|          |                                 0.00/147 [00:00<?,        ?B/s]\u001b[A\n",
      "                                                                                \u001b[A\n",
      "!\u001b[A\n",
      "  0%|          |Querying cache in .dvc/cache    0.00/3.00 [00:00<?,     ?file/s]\u001b[A\n",
      "                                                                                \u001b[A\n",
      "!\u001b[A\n",
      "  0%|          |Transferring                          0/3 [00:00<?,     ?file/s]\u001b[A\n",
      "\n",
      "!\u001b[A\u001b[A\n",
      "\n",
      "  0%|          |2a0e49130bfc0d2c050d50455466d6.dir 0.00/? [00:00<?,        ?B/s]\u001b[A\u001b[A\n",
      "\n",
      "  0%|          |2a0e49130bfc0d2c050d50455466d6.di0.00/147 [00:00<?,        ?B/s]\u001b[A\u001b[A\n",
      "\n",
      "                                                                                \u001b[A\u001b[A\n",
      "100% Adding...|████████████████████████████████████████|1/1 [00:00, 20.47file/s]\u001b[A\n",
      "\n",
      "To track the changes with git, run:\n",
      "\n",
      "\tgit add mnist-data.dvc .gitignore\n",
      "\u001b[0m"
     ]
    }
   ],
   "source": [
    "!dvc add mnist-data"
   ]
  },
  {
   "cell_type": "markdown",
   "id": "f92e9d35-8ea1-4cb1-8ada-e81da7b7ad72",
   "metadata": {},
   "source": [
    "## 원격 저장소에 Push"
   ]
  },
  {
   "cell_type": "markdown",
   "id": "867640cb-a7f3-44a5-a551-89755b5d6485",
   "metadata": {},
   "source": [
    "git push와 비슷한 듯"
   ]
  },
  {
   "cell_type": "code",
   "execution_count": 15,
   "id": "51220095-840e-48e2-8fa8-63e8d8c8b1fb",
   "metadata": {},
   "outputs": [
    {
     "name": "stdout",
     "output_type": "stream",
     "text": [
      "  0% Transferring|                                   |0/5 [00:00<?,     ?file/s]\n",
      "!\u001b[A\n",
      "  0%|          |7fce9fee471194aa8b5b6e47267f03     0.00/? [00:00<?,        ?B/s]\u001b[A\n",
      "  0%|          |7fce9fee471194aa8b5b6e47267f03  0.00/2.00 [00:00<?,        ?B/s]\u001b[A\n",
      " 20% Transferring|██████▏                        |1/5 [00:01<00:06,  1.71s/file]\u001b[A\n",
      "!\u001b[A\n",
      "  0%|          |dbee6ccde4e97b593bda2e28e5d5c3.dir 0.00/? [00:00<?,        ?B/s]\u001b[A\n",
      "  0%|          |dbee6ccde4e97b593bda2e28e5d5c3.d0.00/65.0 [00:00<?,        ?B/s]\u001b[A\n",
      " 40% Transferring|████████████▍                  |2/5 [00:03<00:05,  1.69s/file]\u001b[A\n",
      "!\u001b[A\n",
      "  0%|          |d65e8e3086c9dfebaf3c207c3d40a5     0.00/? [00:00<?,        ?B/s]\u001b[A\n",
      "  0%|          |d65e8e3086c9dfebaf3c207c3d40a5 0.00/7.49M [00:00<?,        ?B/s]\u001b[A\n",
      "\n",
      "!\u001b[A\u001b[A\n",
      "\n",
      "  0%|          |5ba70eb56da97ebef7d13f9907c21a     0.00/? [00:00<?,        ?B/s]\u001b[A\u001b[A\n",
      "\n",
      "  0%|          |5ba70eb56da97ebef7d13f9907c21a 0.00/8.98M [00:00<?,        ?B/s]\u001b[A\u001b[A\n",
      "100%|██████████|d65e8e3086c9dfebaf3c207c3d7.49M/7.49M [00:02<00:00,    3.10MB/s]\u001b[A\n",
      "\n",
      "100%|██████████|5ba70eb56da97ebef7d13f99078.98M/8.98M [00:03<00:00,    2.70MB/s]\u001b[A\u001b[A\n",
      " 60% Transferring|██████████████████▌            |3/5 [00:08<00:06,  3.13s/file]\u001b[A\n",
      "\n",
      " 80% Transferring|████████████████████████▊      |4/5 [00:09<00:02,  2.31s/file]\u001b[A\u001b[A\n",
      "!\u001b[A\n",
      "  0%|          |2a0e49130bfc0d2c050d50455466d6.dir 0.00/? [00:00<?,        ?B/s]\u001b[A\n",
      "  0%|          |2a0e49130bfc0d2c050d50455466d6.di0.00/147 [00:00<?,        ?B/s]\u001b[A\n",
      "5 files pushed                                                                  \u001b[A\n",
      "\u001b[0m"
     ]
    }
   ],
   "source": [
    "!dvc push"
   ]
  },
  {
   "cell_type": "markdown",
   "id": "d52ab1b4-4441-4e69-acde-8afc3706ef6e",
   "metadata": {},
   "source": [
    "## Git push with tag"
   ]
  },
  {
   "cell_type": "code",
   "execution_count": 16,
   "id": "ee051eeb-febb-4aac-90ac-8f4029878a31",
   "metadata": {},
   "outputs": [
    {
     "name": "stdout",
     "output_type": "stream",
     "text": [
      "On branch version3\n",
      "Changes not staged for commit:\n",
      "  (use \"git add <file>...\" to update what will be committed)\n",
      "  (use \"git restore <file>...\" to discard changes in working directory)\n",
      "\t\u001b[31mmodified:   .dvc/config\u001b[m\n",
      "\t\u001b[31mmodified:   .gitignore\u001b[m\n",
      "\t\u001b[31mmodified:   README.md\u001b[m\n",
      "\t\u001b[31mmodified:   Untitled.ipynb\u001b[m\n",
      "\n",
      "Untracked files:\n",
      "  (use \"git add <file>...\" to include in what will be committed)\n",
      "\t\u001b[31mUntitled1.ipynb\u001b[m\n",
      "\t\u001b[31mdvc.ipynb\u001b[m\n",
      "\t\u001b[31mmnist-data.dvc\u001b[m\n",
      "\n",
      "no changes added to commit (use \"git add\" and/or \"git commit -a\")\n"
     ]
    }
   ],
   "source": [
    "!git status"
   ]
  },
  {
   "cell_type": "code",
   "execution_count": 17,
   "id": "23386fe3-edf8-40eb-9f4d-680495e8becd",
   "metadata": {},
   "outputs": [],
   "source": [
    "!git add ."
   ]
  },
  {
   "cell_type": "code",
   "execution_count": 18,
   "id": "dcfe67ce-335f-408f-b24f-4b173f4edb46",
   "metadata": {},
   "outputs": [
    {
     "name": "stdout",
     "output_type": "stream",
     "text": [
      "[version3 3b79b79] add mnist data with dvc\n",
      " 7 files changed, 439 insertions(+), 381 deletions(-)\n",
      " create mode 100644 Untitled1.ipynb\n",
      " create mode 100644 dvc.ipynb\n",
      " create mode 100644 mnist-data.dvc\n"
     ]
    }
   ],
   "source": [
    "!git commit -m \"add mnist data with dvc\""
   ]
  },
  {
   "cell_type": "code",
   "execution_count": 19,
   "id": "e903f83c-e4fd-4691-a1de-8079754d61f5",
   "metadata": {},
   "outputs": [],
   "source": [
    "!git tag -a \"v1.0\" -m \"mnist v1.0\""
   ]
  },
  {
   "cell_type": "code",
   "execution_count": 20,
   "id": "76eb2d73-ef40-4985-981c-fa8a9434c4e7",
   "metadata": {},
   "outputs": [
    {
     "name": "stdout",
     "output_type": "stream",
     "text": [
      "fatal: The current branch version3 has no upstream branch.\n",
      "To push the current branch and set the remote as upstream, use\n",
      "\n",
      "    git push --set-upstream origin version3\n",
      "\n"
     ]
    }
   ],
   "source": [
    "!git push"
   ]
  },
  {
   "cell_type": "code",
   "execution_count": 22,
   "id": "a3a784cf-48be-492b-9a59-7f271efd15b8",
   "metadata": {},
   "outputs": [
    {
     "name": "stdout",
     "output_type": "stream",
     "text": [
      "Switched to branch 'version3'\n"
     ]
    }
   ],
   "source": [
    "!git checkout version3"
   ]
  },
  {
   "cell_type": "code",
   "execution_count": null,
   "id": "25d8530a-9528-47b2-8304-5840a1f341d5",
   "metadata": {},
   "outputs": [],
   "source": []
  }
 ],
 "metadata": {
  "kernelspec": {
   "display_name": "Python 3 (ipykernel)",
   "language": "python",
   "name": "python3"
  },
  "language_info": {
   "codemirror_mode": {
    "name": "ipython",
    "version": 3
   },
   "file_extension": ".py",
   "mimetype": "text/x-python",
   "name": "python",
   "nbconvert_exporter": "python",
   "pygments_lexer": "ipython3",
   "version": "3.9.0"
  }
 },
 "nbformat": 4,
 "nbformat_minor": 5
}
